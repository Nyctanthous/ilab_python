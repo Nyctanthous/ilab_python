{
 "cells": [
  {
   "cell_type": "code",
   "execution_count": 175,
   "metadata": {
    "collapsed": true
   },
   "outputs": [],
   "source": [
    "import numpy as np\n",
    "import pandas as pd\n",
    "from pandas import DataFrame, Series\n",
    "\n",
    "import pims\n",
    "import trackpy as tp\n",
    "\n",
    "import glob\n",
    "import os\n",
    "\n",
    "import math\n",
    "import uncertainties \n",
    "from uncertainties import unumpy\n",
    "from uncertainties import umath\n",
    "from uncertainties import ufloat\n",
    "\n",
    "import matplotlib as mpl\n",
    "import matplotlib.pyplot as plt\n",
    "\n",
    "from helper import rdp, calc_charge\n",
    "\n",
    "# change the following to %matplotlib notebook for interactive plotting\n",
    "%matplotlib inline\n",
    "\n",
    "# Optionally, tweak styles.\n",
    "mpl.rc('figure',  figsize=(10, 6))\n",
    "mpl.rc('image', cmap='gray')"
   ]
  },
  {
   "cell_type": "code",
   "execution_count": 2,
   "metadata": {
    "collapsed": true
   },
   "outputs": [],
   "source": [
    "def processFrames(frames):\n",
    "    #Define user vars to calibrate the program\n",
    "    userMinMass = 700\n",
    "    userMaxMass = 8000\n",
    "    numFramesToAnalyze = 10#len(frames)\n",
    "    userDiameterToLook = 15\n",
    "    userWalkRadius = 11 # Change This\n",
    "    userFrameMemory = 0\n",
    "    userInvert = False\n",
    "    imageHasDrift = False\n",
    "    print(\"There are \", len(frames), \" frames\")\n",
    "    \n",
    "    f = tp.batch(frames[:numFramesToAnalyze], userDiameterToLook,\n",
    "             minmass=userMinMass, invert=userInvert, characterize=False)\n",
    "\n",
    "    return tp.link_df(f, userWalkRadius, memory=userFrameMemory)"
   ]
  },
  {
   "cell_type": "code",
   "execution_count": 3,
   "metadata": {},
   "outputs": [
    {
     "name": "stdout",
     "output_type": "stream",
     "text": [
      "Frame 3: 2 features\n"
     ]
    },
    {
     "name": "stderr",
     "output_type": "stream",
     "text": [
      "ERROR:root:Internal Python error in the inspect module.\n",
      "Below is the traceback from this internal error.\n",
      "\n"
     ]
    },
    {
     "name": "stdout",
     "output_type": "stream",
     "text": [
      "Traceback (most recent call last):\n",
      "  File \"/home/ben/anaconda3/lib/python3.6/site-packages/IPython/core/interactiveshell.py\", line 2862, in run_code\n",
      "    exec(code_obj, self.user_global_ns, self.user_ns)\n",
      "  File \"<ipython-input-3-12b40eeb110a>\", line 14, in <module>\n",
      "    res = pool.map(process, all_files)\n",
      "  File \"/home/ben/anaconda3/lib/python3.6/multiprocessing/pool.py\", line 266, in map\n",
      "    return self._map_async(func, iterable, mapstar, chunksize).get()\n",
      "  File \"/home/ben/anaconda3/lib/python3.6/multiprocessing/pool.py\", line 638, in get\n",
      "    self.wait(timeout)\n",
      "  File \"/home/ben/anaconda3/lib/python3.6/multiprocessing/pool.py\", line 635, in wait\n",
      "    self._event.wait(timeout)\n",
      "  File \"/home/ben/anaconda3/lib/python3.6/threading.py\", line 551, in wait\n",
      "    signaled = self._cond.wait(timeout)\n",
      "  File \"/home/ben/anaconda3/lib/python3.6/threading.py\", line 295, in wait\n",
      "    waiter.acquire()\n",
      "KeyboardInterrupt\n",
      "\n",
      "During handling of the above exception, another exception occurred:\n",
      "\n",
      "Traceback (most recent call last):\n",
      "  File \"/home/ben/anaconda3/lib/python3.6/site-packages/IPython/core/interactiveshell.py\", line 1806, in showtraceback\n",
      "    stb = value._render_traceback_()\n",
      "AttributeError: 'KeyboardInterrupt' object has no attribute '_render_traceback_'\n",
      "\n",
      "During handling of the above exception, another exception occurred:\n",
      "\n",
      "Traceback (most recent call last):\n",
      "  File \"/home/ben/anaconda3/lib/python3.6/site-packages/IPython/core/ultratb.py\", line 1090, in get_records\n",
      "    return _fixed_getinnerframes(etb, number_of_lines_of_context, tb_offset)\n",
      "  File \"/home/ben/anaconda3/lib/python3.6/site-packages/IPython/core/ultratb.py\", line 311, in wrapped\n",
      "    return f(*args, **kwargs)\n",
      "  File \"/home/ben/anaconda3/lib/python3.6/site-packages/IPython/core/ultratb.py\", line 345, in _fixed_getinnerframes\n",
      "    records = fix_frame_records_filenames(inspect.getinnerframes(etb, context))\n",
      "  File \"/home/ben/anaconda3/lib/python3.6/inspect.py\", line 1480, in getinnerframes\n",
      "    frameinfo = (tb.tb_frame,) + getframeinfo(tb, context)\n",
      "  File \"/home/ben/anaconda3/lib/python3.6/inspect.py\", line 1438, in getframeinfo\n",
      "    filename = getsourcefile(frame) or getfile(frame)\n",
      "  File \"/home/ben/anaconda3/lib/python3.6/inspect.py\", line 693, in getsourcefile\n",
      "    if getattr(getmodule(object, filename), '__loader__', None) is not None:\n",
      "  File \"/home/ben/anaconda3/lib/python3.6/inspect.py\", line 736, in getmodule\n",
      "    f = getabsfile(module)\n",
      "  File \"/home/ben/anaconda3/lib/python3.6/inspect.py\", line 705, in getabsfile\n",
      "    _filename = getsourcefile(object) or getfile(object)\n",
      "  File \"/home/ben/anaconda3/lib/python3.6/inspect.py\", line 690, in getsourcefile\n",
      "    if os.path.exists(filename):\n",
      "  File \"/home/ben/anaconda3/lib/python3.6/genericpath.py\", line 19, in exists\n",
      "    os.stat(path)\n",
      "KeyboardInterrupt\n"
     ]
    },
    {
     "ename": "KeyboardInterrupt",
     "evalue": "",
     "output_type": "error",
     "traceback": [
      "\u001b[0;31m---------------------------------------------------------------------------\u001b[0m"
     ]
    }
   ],
   "source": [
    "from multiprocessing.dummy import Pool as ThreadPool\n",
    "pool = ThreadPool(16)\n",
    "counter = 0\n",
    "\n",
    "def process(file):\n",
    "    print(\"Opening \", file)\n",
    "    frames = pims.PyAVReaderIndexed(file, as_grey=True)\n",
    "    curr_df = processFrames(frames)\n",
    "    curr_df.to_csv(r\"df{}.csv\".format(counter), sep='\\t') \n",
    "    counter += 1\n",
    "\n",
    "\n",
    "all_files = [file for file in glob.glob('/home/ben/Dropbox/Documents/PHY240/Python/millikan/*.MOV')]\n",
    "res = pool.map(process, all_files)"
   ]
  },
  {
   "cell_type": "markdown",
   "metadata": {},
   "source": [
    "# Analyze Tracks!"
   ]
  },
  {
   "cell_type": "code",
   "execution_count": 176,
   "metadata": {},
   "outputs": [
    {
     "name": "stdout",
     "output_type": "stream",
     "text": [
      "Opening  /home/ben/Dropbox/Documents/PHY240/Python/millikan/Trajectories/df11/track0.csv\n",
      "Opening  /home/ben/Dropbox/Documents/PHY240/Python/millikan/Trajectories/df11/track3.csv\n",
      "Opening  /home/ben/Dropbox/Documents/PHY240/Python/millikan/Trajectories/df11/track2.csv\n",
      "Opening  /home/ben/Dropbox/Documents/PHY240/Python/millikan/Trajectories/df11/track1.csv\n",
      "Opening  /home/ben/Dropbox/Documents/PHY240/Python/millikan/Trajectories/df12/track0.csv\n",
      "Opening  /home/ben/Dropbox/Documents/PHY240/Python/millikan/Trajectories/df5/track0.csv\n",
      "Opening  /home/ben/Dropbox/Documents/PHY240/Python/millikan/Trajectories/df5/track6.csv\n",
      "Opening  /home/ben/Dropbox/Documents/PHY240/Python/millikan/Trajectories/df5/track4.csv\n",
      "Opening  /home/ben/Dropbox/Documents/PHY240/Python/millikan/Trajectories/df5/track3.csv\n",
      "Opening  /home/ben/Dropbox/Documents/PHY240/Python/millikan/Trajectories/df5/track5.csv\n",
      "Opening  /home/ben/Dropbox/Documents/PHY240/Python/millikan/Trajectories/df5/track2.csv\n",
      "Opening  /home/ben/Dropbox/Documents/PHY240/Python/millikan/Trajectories/df5/track1.csv\n",
      "Opening  /home/ben/Dropbox/Documents/PHY240/Python/millikan/Trajectories/df9/track0.csv\n",
      "Opening  /home/ben/Dropbox/Documents/PHY240/Python/millikan/Trajectories/df2/track0.csv\n",
      "Opening  /home/ben/Dropbox/Documents/PHY240/Python/millikan/Trajectories/df2/track6.csv\n",
      "Opening  /home/ben/Dropbox/Documents/PHY240/Python/millikan/Trajectories/df2/track4.csv\n",
      "Opening  /home/ben/Dropbox/Documents/PHY240/Python/millikan/Trajectories/df2/track3.csv\n",
      "Opening  /home/ben/Dropbox/Documents/PHY240/Python/millikan/Trajectories/df2/track8.csv\n",
      "Opening  /home/ben/Dropbox/Documents/PHY240/Python/millikan/Trajectories/df2/track7.csv\n",
      "Opening  /home/ben/Dropbox/Documents/PHY240/Python/millikan/Trajectories/df2/track5.csv\n",
      "Opening  /home/ben/Dropbox/Documents/PHY240/Python/millikan/Trajectories/df2/track2.csv\n",
      "Opening  /home/ben/Dropbox/Documents/PHY240/Python/millikan/Trajectories/df2/track1.csv\n",
      "Opening  /home/ben/Dropbox/Documents/PHY240/Python/millikan/Trajectories/df4/track0.csv\n",
      "Opening  /home/ben/Dropbox/Documents/PHY240/Python/millikan/Trajectories/df14/track0.csv\n",
      "Opening  /home/ben/Dropbox/Documents/PHY240/Python/millikan/Trajectories/df14/track1.csv\n",
      "Opening  /home/ben/Dropbox/Documents/PHY240/Python/millikan/Trajectories/df8/track0.csv\n",
      "Opening  /home/ben/Dropbox/Documents/PHY240/Python/millikan/Trajectories/df7/track0.csv\n",
      "Opening  /home/ben/Dropbox/Documents/PHY240/Python/millikan/Trajectories/df7/track1.csv\n",
      "Opening  /home/ben/Dropbox/Documents/PHY240/Python/millikan/Trajectories/df3/track0.csv\n",
      "Opening  /home/ben/Dropbox/Documents/PHY240/Python/millikan/Trajectories/df3/track3.csv\n",
      "Opening  /home/ben/Dropbox/Documents/PHY240/Python/millikan/Trajectories/df3/track2.csv\n",
      "Opening  /home/ben/Dropbox/Documents/PHY240/Python/millikan/Trajectories/df3/track1.csv\n",
      "Opening  /home/ben/Dropbox/Documents/PHY240/Python/millikan/Trajectories/df6/track0.csv\n",
      "Opening  /home/ben/Dropbox/Documents/PHY240/Python/millikan/Trajectories/df6/track1.csv\n",
      "Opening  /home/ben/Dropbox/Documents/PHY240/Python/millikan/Trajectories/df13/track2.csv\n",
      "Opening  /home/ben/Dropbox/Documents/PHY240/Python/millikan/Trajectories/df13/track1.csv\n",
      "Opening  /home/ben/Dropbox/Documents/PHY240/Python/millikan/Trajectories/df0/track0.csv\n",
      "Opening  /home/ben/Dropbox/Documents/PHY240/Python/millikan/Trajectories/df0/track1.csv\n"
     ]
    }
   ],
   "source": [
    "rootdir = '/home/ben/Dropbox/Documents/PHY240/Python/millikan/Trajectories'\n",
    "data_arr = []\n",
    "\n",
    "for subdir, dirs, files in os.walk(rootdir):\n",
    "    addr = subdir + r\"/track*.csv\"\n",
    "    for file in glob.glob(addr):\n",
    "        print(\"Opening \", file)\n",
    "        temp_df = pd.read_csv(file, sep='\\t')\n",
    "        \n",
    "        for element in temp_df['particle'].unique():\n",
    "            data_arr.append(temp_df.loc[temp_df['particle'] == element])"
   ]
  },
  {
   "cell_type": "code",
   "execution_count": 181,
   "metadata": {},
   "outputs": [
    {
     "name": "stderr",
     "output_type": "stream",
     "text": [
      "/home/ben/anaconda3/lib/python3.6/site-packages/matplotlib/figure.py:418: UserWarning: matplotlib is currently using a non-GUI backend, so cannot show the figure\n",
      "  \"matplotlib is currently using a non-GUI backend, \"\n"
     ]
    },
    {
     "data": {
      "image/png": "[encoded data removed]",
      "text/plain": [
       "<matplotlib.figure.Figure at 0x7f8e873b7a20>"
      ]
     },
     "metadata": {},
     "output_type": "display_data"
    }
   ],
   "source": [
    "track = data_arr[4]\n",
    "x = list(track['x'])\n",
    "y = list(track['y'])\n",
    "agg = [(x_val, y_val) for x_val, y_val in zip(x, y)]\n",
    "agg = rdp(agg, 16.5)\n",
    "\n",
    "fig = plt.figure()\n",
    "plt.gca().invert_yaxis()\n",
    "\n",
    "x_part, y_part = list(zip(*agg))\n",
    "plt.plot(x_part, y_part)\n",
    "fig.show()\n",
    "\n",
    "changes = []\n",
    "last_change = 0\n",
    "\n",
    "track = track.reset_index(drop=True)\n",
    "\n",
    "for x, y in agg[1:]:\n",
    "    end = track.index[(track['x'] == x) & (track['y'] == y)][0]\n",
    "    changes.append(track[last_change:end])\n",
    "    last_change = end\n",
    "\n",
    "for df in changes:\n",
    "    plt.plot(list(df['x']), list(df['y']), c=np.random.rand(3,))"
   ]
  },
  {
   "cell_type": "code",
   "execution_count": 182,
   "metadata": {
    "scrolled": true
   },
   "outputs": [
    {
     "name": "stdout",
     "output_type": "stream",
     "text": [
      "(5.06+/-0.27)e-05\n",
      "delta (5.03+/-0.27)e-05\n",
      "(-9.9+/-0.5)e-05\n",
      "delta (-9.7+/-0.5)e-05\n",
      "(4.98+/-0.27)e-05\n",
      "delta (5.01+/-0.27)e-05\n",
      "(4.71+/-0.25)e-05\n",
      "delta (4.71+/-0.25)e-05\n"
     ]
    }
   ],
   "source": [
    "px_per_mm = ufloat(37, 2)*10\n",
    "fps = 30\n",
    "\n",
    "velocity_arr = []\n",
    "for track in changes:\n",
    "    # Convert px per mm to meter(s).\n",
    "    track.x = track.x.apply(lambda x: x/(px_per_mm*1000))\n",
    "    track.y = track.y.apply(lambda y: y/(px_per_mm*1000))\n",
    "    \n",
    "    velocities_y = []\n",
    "    velocities_x = []\n",
    "    velocities_net = []\n",
    "    velocity_arr_net = []\n",
    "    time_arr = []\n",
    "    for i in range (1, len(track)):\n",
    "        time = (track.frame.iloc[i] - track.frame.iloc[i-1])/fps\n",
    "        pos_x = track.x.iloc[i] - track.x.iloc[i - 1]\n",
    "        pos_y = track.y.iloc[i] - track.y.iloc[i - 1]\n",
    "\n",
    "        velocities_y.append(pos_y/time)\n",
    "        velocities_x.append(pos_x/time)\n",
    "        \n",
    "        # Neither are used atm.\n",
    "        velocities_net.append(umath.sqrt(velocities_y[-1]*velocities_y[-1] + velocities_x[-1]*velocities_x[-1]))\n",
    "        time_arr.append(track.frame.iloc[i] - track.frame.iloc[0])\n",
    "\n",
    "    velocity_arr_net.append(np.mean(velocities_net[30:-30]))\n",
    "    velocity_arr.append(np.mean(velocities_y[30:-30]))\n",
    "    print(np.mean(velocities_y[30:]))\n",
    "    # Now, get delta y over delta t, just to compare.\n",
    "    print(\"delta\",(track.y.iloc[-1] - track.y.iloc[30])/((track.frame.iloc[-1] - track.frame.iloc[30])/30))"
   ]
  },
  {
   "cell_type": "markdown",
   "metadata": {},
   "source": [
    "The radius of the oil drop is given as\n",
    "$$\n",
    "a = \\sqrt{\\left(\\frac{b}{2p}\\right)^2 + \\frac{9\\eta v_f}{2g\\rho}} - \\frac{b}{2p}\n",
    "$$\n",
    "where:\n",
    "\n",
    "$$\n",
    "\\begin{align}\n",
    "b &=  8.20 x 10^{-3} Pa · m\\\\\n",
    "g &= 9.81 m/s\\\\\n",
    "p &= \\text{barometric pressure in pascals}\\\\\n",
    "\\rho &= \\text{density of oil in } kg/m^3\\\\\n",
    "v_f &= \\text{velocity of fall in } m/s\\\\\n",
    "v_r &= \\text{velocity of fall in } m/s\n",
    "\\end{align}\n",
    "$$\n",
    "\n",
    "The mass is given by\n",
    "$$\n",
    "m = \\frac{4\\pi a^3 \\rho}{3}\n",
    "$$\n",
    "\n",
    "and $q$ is given by\n",
    "$$\n",
    "q = \\frac{mg(v_f + v_r)}{Ev_f}\n",
    "$$"
   ]
  },
  {
   "cell_type": "code",
   "execution_count": 180,
   "metadata": {
    "scrolled": true
   },
   "outputs": [
    {
     "name": "stdout",
     "output_type": "stream",
     "text": [
      "Radius, 0.000692+/-0.000022 mm | Mass, (1.20+/-0.11)e-15 grams | Charge is  (5.2+/-0.5)e-19\n",
      "Radius, 0.000682+/-0.000021 mm | Mass, (1.15+/-0.11)e-15 grams | Charge is  (1.80+/-0.17)e-19\n"
     ]
    }
   ],
   "source": [
    "for v_f, v_r in zip(velocity_arr[::2], velocity_arr[1::2]):\n",
    "    v_f = abs(v_f) # m/s\n",
    "    v_r = -v_r # m/s\n",
    "\n",
    "    a, m, q = calc_results(v_f, v_r)\n",
    "    print(\"Radius,\", (a*1000), \"mm | Mass,\", m, \"grams | Charge is \", q)"
   ]
  },
  {
   "cell_type": "code",
   "execution_count": 218,
   "metadata": {},
   "outputs": [
    {
     "name": "stdout",
     "output_type": "stream",
     "text": [
      "Opening  /home/ben/Dropbox/Documents/PHY240/Python/millikan/Trajectories/df14/track0.csv\n",
      "Opening  /home/ben/Dropbox/Documents/PHY240/Python/millikan/Trajectories/df14/track1.csv\n",
      "       Unnamed: 0  Index    _1            x           y         mass  particle\n",
      "frame                                                                         \n",
      "300           188    300   809  1256.479188  592.934755  1536.270485     111.0\n",
      "301           189    301   810  1256.386531  589.852926  1528.773881     111.0\n",
      "302           190    302   811  1256.696912  588.308885  1596.139840     111.0\n",
      "303           191    303   812  1256.046877  585.458589  1286.767605     111.0\n",
      "304           192    304   813  1256.362181  583.358215  1255.552416     111.0\n",
      "305           193    305   814  1257.283259  580.201404  1129.703543     111.0\n",
      "306           194    306   815  1257.978636  577.486540  1220.544844     111.0\n",
      "307           195    307   816  1258.588445  575.221260  1358.353144     111.0\n",
      "308           196    308   817  1258.876852  570.445625  1097.640031     111.0\n",
      "309           197    309   818  1258.125915  569.788732  1472.872993     111.0\n",
      "310           198    310   819  1257.136648  566.319360  1626.409314     111.0\n",
      "311           199    311   820  1256.150708  565.228451  1671.615578     111.0\n",
      "312           200    312   821  1255.580694  563.157284  1486.967875     111.0\n",
      "313           201    313   822  1254.567476  561.661378  1690.523039     111.0\n",
      "314           202    314   823  1255.263005  559.204536  1579.726510     111.0\n",
      "315           203    315   824  1255.577649  555.342262  1325.309855     111.0\n",
      "316           204    316   825  1254.374300  555.019779  1466.477426     111.0\n",
      "317           205    317   826  1255.496884  555.505355  1646.719425     111.0\n",
      "318           206    318   827  1255.493752  554.352750  1543.104474     111.0\n",
      "319           207    319   828  1255.538345  556.410565  1473.629016     111.0\n",
      "320           208    320   829  1256.409602  557.826149  1366.563787     111.0\n",
      "321           209    321   830  1257.432594  558.667056  1403.524069     111.0\n",
      "322           210    322   831  1257.401010  557.689118  1495.235551     111.0\n",
      "323           211    323   832  1256.411690  560.889710  1719.200251     111.0\n",
      "324           212    324   833  1255.987657  561.766780  1510.074527     111.0\n",
      "325           213    325   834  1256.277428  561.859503  1558.645959     111.0\n",
      "326           214    326   835  1256.063331  563.157370  1695.118853     111.0\n",
      "327           215    327   836  1256.083978  564.589196  1578.153956     111.0\n",
      "328           216    328   837  1256.008409  565.556679  1339.786857     111.0\n",
      "329           217    329   838  1256.223842  565.697468  1343.466685     111.0\n",
      "...           ...    ...   ...          ...         ...          ...       ...\n",
      "571           459    571  1080  1241.594388  741.312801  1237.024575     111.0\n",
      "572           460    572  1081  1240.313220  742.351472  1230.373258     111.0\n",
      "573           461    573  1082  1239.719993  743.283985  1092.675023     111.0\n",
      "574           462    574  1083  1239.290704  745.727173  1419.114334     111.0\n",
      "575           463    575  1084  1240.546737  743.283462  1524.091662     111.0\n",
      "576           464    576  1085  1239.261213  745.981981  1420.453070     111.0\n",
      "577           465    577  1086  1240.295243  746.712818  1295.363696     111.0\n",
      "578           466    578  1087  1240.854548  746.905745  1487.707778     111.0\n",
      "579           467    579  1088  1238.532529  749.500952  1157.111359     111.0\n",
      "580           468    580  1089  1239.577020  749.042977  1189.486532     111.0\n",
      "581           469    581  1090  1240.217171  749.527008  1259.357078     111.0\n",
      "582           470    582  1091  1239.984667  750.530736  1227.244205     111.0\n",
      "583           471    583  1092  1238.526211  751.663160  1133.418074     111.0\n",
      "584           472    584  1093  1239.277508  751.333010  1294.302302     111.0\n",
      "585           473    585  1094  1239.726064  752.379888   972.865532     111.0\n",
      "586           474    586  1095  1238.061008  754.694180  1103.883526     111.0\n",
      "587           475    587  1096  1238.162965  754.932335  1295.016809     111.0\n",
      "588           476    588  1097  1238.330394  754.757673  1363.699204     111.0\n",
      "589           477    589  1098  1239.088503  756.033550  1306.244508     111.0\n",
      "590           478    590  1099  1238.325746  757.722137  1237.059382     111.0\n",
      "591           479    591  1100  1238.546713  756.972633  1254.790130     111.0\n",
      "592           480    592  1101  1238.513781  758.752270  1184.153944     111.0\n",
      "593           481    593  1102  1238.115677  758.296325  1239.414392     111.0\n",
      "594           482    594  1103  1238.208575  759.044198  1104.542565     111.0\n",
      "595           483    595  1104  1237.839333  760.287996  1126.999946     111.0\n",
      "596           484    596  1105  1238.196256  761.901642  1068.278884     111.0\n",
      "597           485    597  1106  1238.421177  762.257042  1114.904025     111.0\n",
      "598           486    598  1107  1238.998791  762.355955  1224.936849     111.0\n",
      "599           487    599  1108  1238.442641  763.008391  1372.095009     111.0\n",
      "600           488    600  1109  1239.062752  764.701868  1155.598571     111.0\n",
      "\n",
      "[301 rows x 7 columns]\n"
     ]
    }
   ],
   "source": [
    "addr = '/home/ben/Dropbox/Documents/PHY240/Python/millikan/Trajectories/df14/track*.csv'\n",
    "\n",
    "t = lambda x: x*30\n",
    "\n",
    "data_arr = []\n",
    "for file in glob.glob(addr):\n",
    "    print(\"Opening \", file)\n",
    "    temp_df = pd.read_csv(file, sep='\\t', index_col='frame')\n",
    "\n",
    "    for element in temp_df['particle'].unique():\n",
    "        data_arr.append(temp_df.loc[temp_df['particle'] == element])\n",
    "        \n",
    "run_0, run_1, run_2 = data_arr\n",
    "run_0_up_0 = run_0.loc[:t(10)] # Note: already at terminal velocity\n",
    "run_0_down_0 = run_0.loc[t(10):t(20)]\n",
    "run_0_up_1 = run_0.loc[t(20):t(25)]\n",
    "run_0_down_1 = run_0.loc[t(25):t(41)]\n",
    "run_0_up_2 = run_0.loc[t(41):t(45)]\n",
    "run_0_down_3 = run_0.loc[t(45):t(55)]\n",
    "run_0_up_3 = run_0.loc[t(55):t(58)]\n",
    "run_0_down_4 = run_0.loc[t(58):]\n",
    "\n",
    "# Get a sample of what we have.\n",
    "print(run_0_down_0)"
   ]
  },
  {
   "cell_type": "code",
   "execution_count": null,
   "metadata": {
    "collapsed": true
   },
   "outputs": [],
   "source": []
  }
 ],
 "metadata": {
  "kernelspec": {
   "display_name": "Python 3",
   "language": "python",
   "name": "python3"
  },
  "language_info": {
   "codemirror_mode": {
    "name": "ipython",
    "version": 3
   },
   "file_extension": ".py",
   "mimetype": "text/x-python",
   "name": "python",
   "nbconvert_exporter": "python",
   "pygments_lexer": "ipython3",
   "version": "3.6.3"
  }
 },
 "nbformat": 4,
 "nbformat_minor": 2
}
